{
 "cells": [
  {
   "cell_type": "markdown",
   "id": "3c5220cd",
   "metadata": {},
   "source": [
    "<img src=\"Logo.png\" width=\"100\" align=\"left\"/> \n",
    "\n",
    "# <center> Unit 3 Project </center>\n",
    "#  <center> Fourth section : Conclusion </center>\n",
    "\n",
    "\n",
    "In this notebook you will be comparing the results of the two methods we used on the created testset. That is said: you will compare the results to the clustering with the results of the classification on the same test test and provide insights and explanation about the observed behaviour."
   ]
  },
  {
   "cell_type": "markdown",
   "id": "d7999942",
   "metadata": {},
   "source": [
    "For this final task you will need to : \n",
    "1. Load the testset data that you created all along this project \n",
    "2. For each cluster provide percentages about each actual/ predicted class contained with this cluster. Eg : cluster N°2 : is made of ( 50% class 2 and 50% class 3 ) from actual labels and ( 40 % predicted class 2 and 40% predicted class 3 + 20% predicted class 1) \n",
    "The above is just an example and is far away from the actual situation.\n",
    "\n",
    "3. Explain the behaviour and provide isights about it "
   ]
  },
  {
   "cell_type": "markdown",
   "id": "5ce7ef74",
   "metadata": {},
   "source": [
    "## 1.  Load the data: "
   ]
  },
  {
   "cell_type": "code",
   "execution_count": 1,
   "id": "db5d912f",
   "metadata": {},
   "outputs": [],
   "source": [
    "import pandas as pd "
   ]
  },
  {
   "cell_type": "code",
   "execution_count": 2,
   "id": "20df3761",
   "metadata": {},
   "outputs": [],
   "source": [
    "# To-Do : load the test summary data \n",
    "df = pd.read_csv ('test_summary.csv')"
   ]
  },
  {
   "cell_type": "code",
   "execution_count": 3,
   "id": "d4c27a63",
   "metadata": {},
   "outputs": [
    {
     "data": {
      "text/html": [
       "<div>\n",
       "<style scoped>\n",
       "    .dataframe tbody tr th:only-of-type {\n",
       "        vertical-align: middle;\n",
       "    }\n",
       "\n",
       "    .dataframe tbody tr th {\n",
       "        vertical-align: top;\n",
       "    }\n",
       "\n",
       "    .dataframe thead th {\n",
       "        text-align: right;\n",
       "    }\n",
       "</style>\n",
       "<table border=\"1\" class=\"dataframe\">\n",
       "  <thead>\n",
       "    <tr style=\"text-align: right;\">\n",
       "      <th></th>\n",
       "      <th>ID</th>\n",
       "      <th>Age</th>\n",
       "      <th>Sex</th>\n",
       "      <th>ALB</th>\n",
       "      <th>ALP</th>\n",
       "      <th>ALT</th>\n",
       "      <th>AST</th>\n",
       "      <th>BIL</th>\n",
       "      <th>CHE</th>\n",
       "      <th>CHOL</th>\n",
       "      <th>CREA</th>\n",
       "      <th>GGT</th>\n",
       "      <th>PROT</th>\n",
       "      <th>cluster</th>\n",
       "      <th>Category</th>\n",
       "      <th>Predicted_class</th>\n",
       "    </tr>\n",
       "  </thead>\n",
       "  <tbody>\n",
       "    <tr>\n",
       "      <th>0</th>\n",
       "      <td>249</td>\n",
       "      <td>55</td>\n",
       "      <td>0</td>\n",
       "      <td>28.1</td>\n",
       "      <td>65.5</td>\n",
       "      <td>16.6</td>\n",
       "      <td>17.5</td>\n",
       "      <td>2.8</td>\n",
       "      <td>5.58</td>\n",
       "      <td>4.39</td>\n",
       "      <td>65.0</td>\n",
       "      <td>26.2</td>\n",
       "      <td>62.4</td>\n",
       "      <td>3</td>\n",
       "      <td>0</td>\n",
       "      <td>0</td>\n",
       "    </tr>\n",
       "    <tr>\n",
       "      <th>1</th>\n",
       "      <td>366</td>\n",
       "      <td>39</td>\n",
       "      <td>1</td>\n",
       "      <td>31.4</td>\n",
       "      <td>106.0</td>\n",
       "      <td>16.6</td>\n",
       "      <td>17.0</td>\n",
       "      <td>2.4</td>\n",
       "      <td>5.95</td>\n",
       "      <td>5.30</td>\n",
       "      <td>68.0</td>\n",
       "      <td>22.9</td>\n",
       "      <td>72.3</td>\n",
       "      <td>3</td>\n",
       "      <td>0</td>\n",
       "      <td>0</td>\n",
       "    </tr>\n",
       "    <tr>\n",
       "      <th>2</th>\n",
       "      <td>433</td>\n",
       "      <td>48</td>\n",
       "      <td>1</td>\n",
       "      <td>43.7</td>\n",
       "      <td>50.1</td>\n",
       "      <td>17.3</td>\n",
       "      <td>26.3</td>\n",
       "      <td>8.1</td>\n",
       "      <td>8.15</td>\n",
       "      <td>5.38</td>\n",
       "      <td>64.0</td>\n",
       "      <td>13.4</td>\n",
       "      <td>73.1</td>\n",
       "      <td>3</td>\n",
       "      <td>0</td>\n",
       "      <td>0</td>\n",
       "    </tr>\n",
       "    <tr>\n",
       "      <th>3</th>\n",
       "      <td>611</td>\n",
       "      <td>62</td>\n",
       "      <td>1</td>\n",
       "      <td>32.0</td>\n",
       "      <td>416.6</td>\n",
       "      <td>5.9</td>\n",
       "      <td>110.3</td>\n",
       "      <td>50.0</td>\n",
       "      <td>5.57</td>\n",
       "      <td>6.30</td>\n",
       "      <td>55.7</td>\n",
       "      <td>650.9</td>\n",
       "      <td>68.5</td>\n",
       "      <td>2</td>\n",
       "      <td>3</td>\n",
       "      <td>3</td>\n",
       "    </tr>\n",
       "    <tr>\n",
       "      <th>4</th>\n",
       "      <td>133</td>\n",
       "      <td>44</td>\n",
       "      <td>0</td>\n",
       "      <td>35.5</td>\n",
       "      <td>81.7</td>\n",
       "      <td>27.5</td>\n",
       "      <td>29.5</td>\n",
       "      <td>6.4</td>\n",
       "      <td>8.81</td>\n",
       "      <td>6.65</td>\n",
       "      <td>83.0</td>\n",
       "      <td>24.1</td>\n",
       "      <td>68.0</td>\n",
       "      <td>3</td>\n",
       "      <td>0</td>\n",
       "      <td>0</td>\n",
       "    </tr>\n",
       "  </tbody>\n",
       "</table>\n",
       "</div>"
      ],
      "text/plain": [
       "    ID  Age  Sex   ALB    ALP   ALT    AST   BIL   CHE  CHOL  CREA    GGT  \\\n",
       "0  249   55    0  28.1   65.5  16.6   17.5   2.8  5.58  4.39  65.0   26.2   \n",
       "1  366   39    1  31.4  106.0  16.6   17.0   2.4  5.95  5.30  68.0   22.9   \n",
       "2  433   48    1  43.7   50.1  17.3   26.3   8.1  8.15  5.38  64.0   13.4   \n",
       "3  611   62    1  32.0  416.6   5.9  110.3  50.0  5.57  6.30  55.7  650.9   \n",
       "4  133   44    0  35.5   81.7  27.5   29.5   6.4  8.81  6.65  83.0   24.1   \n",
       "\n",
       "   PROT  cluster  Category  Predicted_class  \n",
       "0  62.4        3         0                0  \n",
       "1  72.3        3         0                0  \n",
       "2  73.1        3         0                0  \n",
       "3  68.5        2         3                3  \n",
       "4  68.0        3         0                0  "
      ]
     },
     "execution_count": 3,
     "metadata": {},
     "output_type": "execute_result"
    }
   ],
   "source": [
    "df.head()"
   ]
  },
  {
   "cell_type": "markdown",
   "id": "5a876830",
   "metadata": {},
   "source": [
    "## 2. Analysis: "
   ]
  },
  {
   "cell_type": "code",
   "execution_count": 4,
   "id": "77743e90",
   "metadata": {
    "scrolled": true
   },
   "outputs": [
    {
     "name": "stdout",
     "output_type": "stream",
     "text": [
      "<class 'pandas.core.frame.DataFrame'>\n",
      "RangeIndex: 123 entries, 0 to 122\n",
      "Data columns (total 16 columns):\n",
      " #   Column           Non-Null Count  Dtype  \n",
      "---  ------           --------------  -----  \n",
      " 0   ID               123 non-null    int64  \n",
      " 1   Age              123 non-null    int64  \n",
      " 2   Sex              123 non-null    int64  \n",
      " 3   ALB              123 non-null    float64\n",
      " 4   ALP              123 non-null    float64\n",
      " 5   ALT              123 non-null    float64\n",
      " 6   AST              123 non-null    float64\n",
      " 7   BIL              123 non-null    float64\n",
      " 8   CHE              123 non-null    float64\n",
      " 9   CHOL             123 non-null    float64\n",
      " 10  CREA             123 non-null    float64\n",
      " 11  GGT              123 non-null    float64\n",
      " 12  PROT             123 non-null    float64\n",
      " 13  cluster          123 non-null    int64  \n",
      " 14  Category         123 non-null    int64  \n",
      " 15  Predicted_class  123 non-null    int64  \n",
      "dtypes: float64(10), int64(6)\n",
      "memory usage: 15.5 KB\n"
     ]
    }
   ],
   "source": [
    "df.info()"
   ]
  },
  {
   "cell_type": "code",
   "execution_count": 5,
   "id": "d3bfe880",
   "metadata": {},
   "outputs": [],
   "source": [
    "def Percentage_Category (k , rows ):\n",
    "    \n",
    "    nb = 0\n",
    "    sum0 = 0\n",
    "    sum1 = 0\n",
    "    sum2 = 0\n",
    "    sum3 = 0 \n",
    "    sum4 = 0\n",
    "    for i in range(rows):\n",
    "         if (df.cluster[i] == k ): \n",
    "            nb = nb +1 \n",
    "            if (df.Category[i] == 0) : \n",
    "                sum0 = sum0 + 1\n",
    "            if (df.Category[i] == 1) :\n",
    "                sum1 = sum1 + 1\n",
    "            if (df.Category[i] == 2) : \n",
    "                sum2 = sum2 + 1\n",
    "            if (df.Category[i] == 3) :\n",
    "                sum3 = sum3 + 1\n",
    "            if (df.Category[i] == 4) :\n",
    "                sum4 = sum4 + 1\n",
    "                \n",
    "    print('true_class0_percetage : ',(sum0*100)/nb)\n",
    "    print('true_class1_percetage : ',(sum1*100)/nb)\n",
    "    print('true_class2_percetage : ',(sum2*100)/nb)\n",
    "    print('true_class3_percetage : ',(sum3*100)/nb)\n",
    "    print('true_class4_percetage : ',(sum4*100)/nb)"
   ]
  },
  {
   "cell_type": "code",
   "execution_count": 6,
   "id": "9bdb2aa8",
   "metadata": {},
   "outputs": [],
   "source": [
    "def Percentage_Predicted (k , rows ):\n",
    "    \n",
    "    nb = 0\n",
    "    sum0 = 0\n",
    "    sum1 = 0\n",
    "    sum2 = 0\n",
    "    sum3 = 0 \n",
    "    sum4 = 0\n",
    "    for i in range(rows):\n",
    "         if (df.cluster[i] == k ): \n",
    "            nb = nb +1 \n",
    "            if (df.Predicted_class[i] == 0) : \n",
    "                sum0 = sum0 + 1\n",
    "            if (df.Predicted_class[i] == 1) :\n",
    "                sum1 = sum1 + 1\n",
    "            if (df.Predicted_class[i] == 2) : \n",
    "                sum2 = sum2 + 1\n",
    "            if (df.Predicted_class[i] == 3) :\n",
    "                sum3 = sum3 + 1\n",
    "            if (df.Predicted_class[i] == 4) :\n",
    "                sum4 = sum4 + 1\n",
    "                \n",
    "    print('predicted_class0_percetage : ',(sum0*100)/nb)\n",
    "    print('predicted_class1_percetage : ',(sum1*100)/nb)\n",
    "    print('predicted_class2_percetage : ',(sum2*100)/nb)\n",
    "    print('predicted_class3_percetage : ',(sum3*100)/nb)\n",
    "    print('predicted_class4_percetage : ',(sum4*100)/nb)"
   ]
  },
  {
   "cell_type": "code",
   "execution_count": 7,
   "id": "99732f39",
   "metadata": {},
   "outputs": [
    {
     "name": "stdout",
     "output_type": "stream",
     "text": [
      "cluser  1  : {\n",
      "true_class0_percetage :  0.0\n",
      "true_class1_percetage :  0.0\n",
      "true_class2_percetage :  0.0\n",
      "true_class3_percetage :  100.0\n",
      "true_class4_percetage :  0.0\n",
      "predicted_class0_percetage :  0.0\n",
      "predicted_class1_percetage :  0.0\n",
      "predicted_class2_percetage :  0.0\n",
      "predicted_class3_percetage :  100.0\n",
      "predicted_class4_percetage :  0.0\n",
      "}\n",
      "cluser  2  : {\n",
      "true_class0_percetage :  0.0\n",
      "true_class1_percetage :  25.0\n",
      "true_class2_percetage :  0.0\n",
      "true_class3_percetage :  50.0\n",
      "true_class4_percetage :  25.0\n",
      "predicted_class0_percetage :  75.0\n",
      "predicted_class1_percetage :  0.0\n",
      "predicted_class2_percetage :  0.0\n",
      "predicted_class3_percetage :  25.0\n",
      "predicted_class4_percetage :  0.0\n",
      "}\n",
      "cluser  3  : {\n",
      "true_class0_percetage :  89.10891089108911\n",
      "true_class1_percetage :  5.9405940594059405\n",
      "true_class2_percetage :  1.9801980198019802\n",
      "true_class3_percetage :  2.9702970297029703\n",
      "true_class4_percetage :  0.0\n",
      "predicted_class0_percetage :  92.07920792079207\n",
      "predicted_class1_percetage :  3.9603960396039604\n",
      "predicted_class2_percetage :  0.9900990099009901\n",
      "predicted_class3_percetage :  2.9702970297029703\n",
      "predicted_class4_percetage :  0.0\n",
      "}\n",
      "cluser  4  : {\n",
      "true_class0_percetage :  35.294117647058826\n",
      "true_class1_percetage :  11.764705882352942\n",
      "true_class2_percetage :  23.529411764705884\n",
      "true_class3_percetage :  17.647058823529413\n",
      "true_class4_percetage :  11.764705882352942\n",
      "predicted_class0_percetage :  82.3529411764706\n",
      "predicted_class1_percetage :  0.0\n",
      "predicted_class2_percetage :  17.647058823529413\n",
      "predicted_class3_percetage :  0.0\n",
      "predicted_class4_percetage :  0.0\n",
      "}\n"
     ]
    }
   ],
   "source": [
    "# To-Do create a summary about each cluster : \n",
    "# percentages of each target (actual Category) within each cluster + Percentages of each predicted class within the cluster \n",
    "rows = len(df.index)\n",
    "\n",
    "for k in (range(1,5)): \n",
    "    \n",
    "     print('cluser ',k,' : {')\n",
    "     Percentage_Category(k,rows)\n",
    "     Percentage_Predicted(k,rows)\n",
    "     print('}')\n",
    "        "
   ]
  },
  {
   "cell_type": "markdown",
   "id": "65b6139d",
   "metadata": {},
   "source": [
    "## 3. Explanations and isights :"
   ]
  },
  {
   "cell_type": "code",
   "execution_count": 13,
   "id": "cecd4211",
   "metadata": {},
   "outputs": [
    {
     "data": {
      "image/png": "[encoded data removed]",
      "text/plain": [
       "<Figure size 432x288 with 1 Axes>"
      ]
     },
     "metadata": {
      "needs_background": "light"
     },
     "output_type": "display_data"
    }
   ],
   "source": [
    "# in this section you should display analysis about each cluster and comment those one by one \n",
    "import matplotlib.pyplot as plt \n",
    "\n",
    "plt.scatter(df['cluster'], df['Category'],c =\"blue\")\n",
    "plt.xlabel(\"Cluster\")\n",
    "plt.ylabel(\"Target\")\n",
    "plt.show()"
   ]
  },
  {
   "cell_type": "code",
   "execution_count": 14,
   "id": "58785888",
   "metadata": {},
   "outputs": [
    {
     "data": {
      "image/png": "[encoded data removed]",
      "text/plain": [
       "<Figure size 432x288 with 1 Axes>"
      ]
     },
     "metadata": {
      "needs_background": "light"
     },
     "output_type": "display_data"
    }
   ],
   "source": [
    "plt.scatter(df['cluster'], df['Predicted_class'],c =\"green\")\n",
    "plt.xlabel(\"Cluster\")\n",
    "plt.ylabel(\"Target\")\n",
    "plt.show()"
   ]
  },
  {
   "cell_type": "markdown",
   "id": "c63ed1b5",
   "metadata": {},
   "source": [
    "Cluster 01 : \n",
    "    - Contains only the Category number 3 : 'Cirrhosis' , ( same for the predicted class ) .\n",
    "Cluster 02 :\n",
    "    - Contains the '1=Hepatitis' , '3=Cirrhosis' and 4 : '0s=suspect Blood Donor' categories ( for the true class )\n",
    "    - But contains the '0=Blood Donor' , '3=Cirrhosis' for the predicted class \n",
    "Cluster 03 : \n",
    "    - Contains some of all the categories except the 4th : '0s=suspect Blood Donor' ( same for the predicted class )\n",
    "    - But the biggest part is taken for the '0=Blood Donor' .\n",
    "    - with little diffrence in the percentage of each category between the traget var and the predicted class\n",
    "Cluster 04 : \n",
    "    - Contains some of all the categories for the true class \n",
    "    - But only the predicted class '0=Blood Donor' and '2=Fibrosis'\n",
    "    "
   ]
  },
  {
   "cell_type": "markdown",
   "id": "c248cbad",
   "metadata": {},
   "source": [
    "## 4. Conclusion:\n",
    "\n",
    "Explain your findings and provide reasons for the behaviour."
   ]
  },
  {
   "cell_type": "markdown",
   "id": "4a47dfa3",
   "metadata": {},
   "source": [
    "Cluster 01 :\n",
    "    - the prediction was totally right .\n",
    "    - there is no other category data points near enough to the data points that represents the 'Cirrhosis' category \n",
    "      to be considered within the same cluster .\n",
    "    - patients that have 'Cirrhosis' don't have another illness ( from the categories that are mentioned in this dataset ) . \n",
    "Cluster 02 :\n",
    "    - there is some mispredicted values .\n",
    "    - the categories data points considered in this cluster are near to each other.\n",
    "    - Patients that have '1=Hepatitis' have also '3=Cirrhosis' .# the true class \n",
    "Cluster 03 : \n",
    "    - there is some mispredicted values .\n",
    "    - This cluster reprensents  the '0=Blood Donor' category .\n",
    "Cluster 04 : \n",
    "    - there is lots of mispredicted values .\n",
    "    - these datapoints considered in the same cluster are near to each other .\n",
    "    - maybe choosing only 3 clusters would be enough to represent the dataset ."
   ]
  }
 ],
 "metadata": {
  "kernelspec": {
   "display_name": "Python 3 (ipykernel)",
   "language": "python",
   "name": "python3"
  },
  "language_info": {
   "codemirror_mode": {
    "name": "ipython",
    "version": 3
   },
   "file_extension": ".py",
   "mimetype": "text/x-python",
   "name": "python",
   "nbconvert_exporter": "python",
   "pygments_lexer": "ipython3",
   "version": "3.9.7"
  }
 },
 "nbformat": 4,
 "nbformat_minor": 5
}
